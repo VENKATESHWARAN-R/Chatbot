{
 "cells": [
  {
   "cell_type": "code",
   "execution_count": 1,
   "metadata": {},
   "outputs": [],
   "source": [
    "import random"
   ]
  },
  {
   "cell_type": "code",
   "execution_count": 2,
   "metadata": {},
   "outputs": [],
   "source": [
    "def get_id2line():\n",
    "    lines=open('./data/movie_lines.txt').read().split('\\n')\n",
    "    id2line = {}\n",
    "    for line in lines:\n",
    "        _line = line.split(' +++$+++ ')\n",
    "        if len(_line) == 5:\n",
    "            id2line[_line[0]] = _line[4]\n",
    "    return id2line"
   ]
  },
  {
   "cell_type": "code",
   "execution_count": 3,
   "metadata": {},
   "outputs": [],
   "source": [
    "def get_conversations():\n",
    "    conv_lines = open('./data/movie_conversations.txt').read().split('\\n')\n",
    "    convs = [ ]\n",
    "    for line in conv_lines[:-1]:\n",
    "        _line = line.split(' +++$+++ ')[-1][1:-1].replace(\"'\",\"\").replace(\" \",\"\")\n",
    "        convs.append(_line.split(','))\n",
    "    return convs"
   ]
  },
  {
   "cell_type": "code",
   "execution_count": 4,
   "metadata": {},
   "outputs": [],
   "source": [
    "def extract_conversations(convs,id2line,path=''):\n",
    "    idx = 0\n",
    "    for conv in convs:\n",
    "        f_conv = open(path + str(idx)+'.txt', 'w')\n",
    "        for line_id in conv:\n",
    "            f_conv.write(id2line[line_id])\n",
    "            f_conv.write('\\n')\n",
    "        f_conv.close()\n",
    "        idx += 1"
   ]
  },
  {
   "cell_type": "code",
   "execution_count": 5,
   "metadata": {},
   "outputs": [],
   "source": [
    "def gather_dataset(convs, id2line):\n",
    "    questions = []; answers = []\n",
    "\n",
    "    for conv in convs:\n",
    "        if len(conv) %2 != 0:\n",
    "            conv = conv[:-1]\n",
    "        for i in range(len(conv)):\n",
    "            if i%2 == 0:\n",
    "                questions.append(id2line[conv[i]])\n",
    "            else:\n",
    "                answers.append(id2line[conv[i]])\n",
    "\n",
    "    return questions, answers"
   ]
  },
  {
   "cell_type": "code",
   "execution_count": 7,
   "metadata": {},
   "outputs": [],
   "source": [
    "def prepare_seq2seq_files(questions, answers, path='',TESTSET_SIZE = 30000):\n",
    "    \n",
    "    # open files\n",
    "    train_enc = open(path + 'train.enc','w')\n",
    "    train_dec = open(path + 'train.dec','w')\n",
    "    test_enc  = open(path + 'test.enc', 'w')\n",
    "    test_dec  = open(path + 'test.dec', 'w')\n",
    "\n",
    "    # choose 30,000 (TESTSET_SIZE) items to put into testset\n",
    "    test_ids = random.sample([i for i in range(len(questions))],TESTSET_SIZE)\n",
    "\n",
    "    for i in range(len(questions)):\n",
    "        if i in test_ids:\n",
    "            test_enc.write(questions[i]+'\\n')\n",
    "            test_dec.write(answers[i]+ '\\n' )\n",
    "        else:\n",
    "            train_enc.write(questions[i]+'\\n')\n",
    "            train_dec.write(answers[i]+ '\\n' )\n",
    "        if i%10000 == 0:\n",
    "            print ('\\n>> written %d lines' %(i) )\n",
    "\n",
    "    # close files\n",
    "    train_enc.close()\n",
    "    train_dec.close()\n",
    "    test_enc.close()\n",
    "    test_dec.close()"
   ]
  },
  {
   "cell_type": "code",
   "execution_count": 15,
   "metadata": {},
   "outputs": [],
   "source": [
    "import numpy as np"
   ]
  },
  {
   "cell_type": "code",
   "execution_count": 16,
   "metadata": {},
   "outputs": [
    {
     "data": {
      "text/plain": [
       "[8397,\n",
       " 4791,\n",
       " 1630,\n",
       " 1560,\n",
       " 5228,\n",
       " 1487,\n",
       " 1476,\n",
       " 557,\n",
       " 1874,\n",
       " 1449,\n",
       " 7452,\n",
       " 4737,\n",
       " 4593,\n",
       " 6058,\n",
       " 3792,\n",
       " 2808,\n",
       " 21,\n",
       " 7890,\n",
       " 8032,\n",
       " 4896,\n",
       " 3914,\n",
       " 7861,\n",
       " 9018,\n",
       " 7380,\n",
       " 5881,\n",
       " 2898,\n",
       " 4413,\n",
       " 2329,\n",
       " 7198,\n",
       " 302,\n",
       " 3720,\n",
       " 4007,\n",
       " 8274,\n",
       " 8859,\n",
       " 7479,\n",
       " 5956,\n",
       " 3337,\n",
       " 3096,\n",
       " 9685,\n",
       " 1977,\n",
       " 6817,\n",
       " 3407,\n",
       " 5598,\n",
       " 8774,\n",
       " 5312,\n",
       " 8875,\n",
       " 4130,\n",
       " 2727,\n",
       " 2643,\n",
       " 9137,\n",
       " 3527,\n",
       " 3269,\n",
       " 2754,\n",
       " 1798,\n",
       " 3621,\n",
       " 1749,\n",
       " 7665,\n",
       " 5314,\n",
       " 6436,\n",
       " 2809,\n",
       " 8447,\n",
       " 7871,\n",
       " 2540,\n",
       " 9738,\n",
       " 1305,\n",
       " 942,\n",
       " 704,\n",
       " 2563,\n",
       " 9565,\n",
       " 9707,\n",
       " 2322,\n",
       " 365,\n",
       " 5641,\n",
       " 9858,\n",
       " 3973,\n",
       " 9093,\n",
       " 9111,\n",
       " 8608,\n",
       " 3549,\n",
       " 7794,\n",
       " 2736,\n",
       " 1574,\n",
       " 3625,\n",
       " 9855,\n",
       " 5810,\n",
       " 7545,\n",
       " 4128,\n",
       " 8881,\n",
       " 3962,\n",
       " 6615,\n",
       " 6381,\n",
       " 984,\n",
       " 4821,\n",
       " 8851,\n",
       " 9050,\n",
       " 3187,\n",
       " 4090,\n",
       " 8653,\n",
       " 9562,\n",
       " 2691,\n",
       " 3141,\n",
       " 2635,\n",
       " 4717,\n",
       " 2683,\n",
       " 3816,\n",
       " 6545,\n",
       " 283,\n",
       " 6105,\n",
       " 8696,\n",
       " 851,\n",
       " 6202,\n",
       " 8136,\n",
       " 6933,\n",
       " 8983,\n",
       " 353,\n",
       " 8846,\n",
       " 9942,\n",
       " 8027,\n",
       " 494,\n",
       " 5841,\n",
       " 7832,\n",
       " 8893,\n",
       " 8186,\n",
       " 2778,\n",
       " 9035,\n",
       " 4394,\n",
       " 3429,\n",
       " 7800]"
      ]
     },
     "execution_count": 16,
     "metadata": {},
     "output_type": "execute_result"
    }
   ],
   "source": [
    "sample_idx = random.sample(list(np.arange(10000)), 128)\n",
    "sample_idx"
   ]
  },
  {
   "cell_type": "code",
   "execution_count": 8,
   "metadata": {},
   "outputs": [
    {
     "name": "stdout",
     "output_type": "stream",
     "text": [
      ">> gathered id2line dictionary.\n",
      "\n"
     ]
    }
   ],
   "source": [
    "id2line = get_id2line()\n",
    "print ('>> gathered id2line dictionary.\\n')"
   ]
  },
  {
   "cell_type": "code",
   "execution_count": 9,
   "metadata": {},
   "outputs": [
    {
     "name": "stdout",
     "output_type": "stream",
     "text": [
      ">> gathered conversations.\n",
      "\n"
     ]
    }
   ],
   "source": [
    "convs = get_conversations()\n",
    "print ('>> gathered conversations.\\n')"
   ]
  },
  {
   "cell_type": "code",
   "execution_count": 10,
   "metadata": {},
   "outputs": [],
   "source": [
    "questions, answers = gather_dataset(convs,id2line)"
   ]
  },
  {
   "cell_type": "code",
   "execution_count": 11,
   "metadata": {},
   "outputs": [
    {
     "name": "stdout",
     "output_type": "stream",
     "text": [
      "['Can we make this quick?  Roxanne Korrine and Andrew Barrett are having an incredibly horrendous public break- up on the quad.  Again.', 'Not the hacking and gagging and spitting part.  Please.']\n"
     ]
    }
   ],
   "source": [
    "print (questions[:2])"
   ]
  },
  {
   "cell_type": "code",
   "execution_count": 13,
   "metadata": {},
   "outputs": [
    {
     "name": "stdout",
     "output_type": "stream",
     "text": [
      "[\"Well, I thought we'd start with pronunciation, if that's okay with you.\", \"Okay... then how 'bout we try out some French cuisine.  Saturday?  Night?\"]\n"
     ]
    }
   ],
   "source": [
    "print (answers[:2])"
   ]
  },
  {
   "cell_type": "code",
   "execution_count": 14,
   "metadata": {},
   "outputs": [
    {
     "data": {
      "text/plain": [
       "(138135, 138135)"
      ]
     },
     "execution_count": 14,
     "metadata": {},
     "output_type": "execute_result"
    }
   ],
   "source": [
    "len(questions), len(answers)"
   ]
  },
  {
   "cell_type": "code",
   "execution_count": null,
   "metadata": {},
   "outputs": [],
   "source": []
  }
 ],
 "metadata": {
  "interpreter": {
   "hash": "2e3e6d922a4a2b8bdfb835fcfd6c913bd8c71bd3fc5f1ecc522edf4d040dd891"
  },
  "kernelspec": {
   "display_name": "Python 3.9.9 64-bit (windows store)",
   "language": "python",
   "name": "python3"
  },
  "language_info": {
   "codemirror_mode": {
    "name": "ipython",
    "version": 3
   },
   "file_extension": ".py",
   "mimetype": "text/x-python",
   "name": "python",
   "nbconvert_exporter": "python",
   "pygments_lexer": "ipython3",
   "version": "3.9.9"
  },
  "orig_nbformat": 4
 },
 "nbformat": 4,
 "nbformat_minor": 2
}
